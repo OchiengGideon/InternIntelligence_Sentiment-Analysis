{
 "cells": [
  {
   "cell_type": "code",
   "execution_count": 8,
   "id": "48551e42",
   "metadata": {},
   "outputs": [],
   "source": [
    "import pandas as pd\n",
    "import numpy as np\n",
    "import matplotlib.pyplot as plt\n",
    "import seaborn as sns\n",
    "plt.style.use('ggplot')\n",
    "\n",
    "import nltk\n",
    "from nltk.corpus import stopwords\n",
    "from nltk.tokenize import word_tokenize\n",
    "from nltk.stem import WordNetLemmatizer \n",
    "import os\n",
    "\n"
   ]
  },
  {
   "cell_type": "code",
   "execution_count": 6,
   "id": "52818086",
   "metadata": {},
   "outputs": [],
   "source": [
    "# using os to read all csv files in the directory\n",
    "def read_all_data(directory):\n",
    "    all_files = os.listdir(directory)\n",
    "    all_data = pd.DataFrame()\n",
    "    for file in all_files:\n",
    "        if file.endswith('.csv'):\n",
    "            file_path = os.path.join(directory, file)\n",
    "            df = pd.read_csv(file_path, encoding='utf-8')\n",
    "            all_data = pd.concat([all_data, df], ignore_index=True)\n",
    "    return all_data"
   ]
  },
  {
   "cell_type": "code",
   "execution_count": 13,
   "id": "3c1d10f8",
   "metadata": {},
   "outputs": [
    {
     "name": "stdout",
     "output_type": "stream",
     "text": [
      "(7095, 6)\n"
     ]
    }
   ],
   "source": [
    "df = read_all_data('./Data/')\n",
    "\n",
    "print(df.shape)\n"
   ]
  },
  {
   "cell_type": "code",
   "execution_count": 15,
   "id": "73364288",
   "metadata": {},
   "outputs": [
    {
     "data": {
      "application/vnd.microsoft.datawrangler.viewer.v0+json": {
       "columns": [
        {
         "name": "index",
         "rawType": "int64",
         "type": "integer"
        },
        {
         "name": "Unnamed: 0",
         "rawType": "int64",
         "type": "integer"
        },
        {
         "name": "product_name",
         "rawType": "object",
         "type": "string"
        },
        {
         "name": "review_text",
         "rawType": "object",
         "type": "string"
        },
        {
         "name": "product_rating",
         "rawType": "int64",
         "type": "integer"
        },
        {
         "name": "review_date",
         "rawType": "object",
         "type": "string"
        },
        {
         "name": "avg_rating",
         "rawType": "float64",
         "type": "float"
        }
       ],
       "conversionMethod": "pd.DataFrame",
       "ref": "48a6db13-6108-4852-93e9-7fda150e2d03",
       "rows": [
        [
         "0",
         "0",
         "Microsoft Xbox Series S – 1TB White",
         "The series S will set you up to game for years.  Add game pass ultimate and for less than the cost of a good lincy you will have hundreds of hours of fun a month.  The S with a terrabyte of storage is the perfect gateway to the world of xbox!",
         "5",
         "10/31/2024",
         "4.8"
        ],
        [
         "1",
         "1",
         "Microsoft Xbox Series S – 1TB White",
         "Ordered Xbox series S, received a PS5 controller instead. Called customer service, ended up overseas with some idiot that don't understand what happened. Meanwhile I'm forced to dispute the charges with my credit card company because the idiots in customer service say the package was delivered. I never said I didn't get a delivery...I said you delivered the wrong 💩❗",
         "5",
         "12/17/2024",
         "4.8"
        ],
        [
         "2",
         "2",
         "Microsoft Xbox Series S – 1TB White",
         "This product is absolutely amazing, the loading times are great, graphics are wonderful and it is silent. It doesn't sound like a jet engine going off like a PS4. Absolutely love it. This product is absolutely amazing, the loading times are great, graphics are wonderful and it is silent. It doesn't sound like a jet engine going off like a PS4 absolutely love it.",
         "5",
         "2/1/2025",
         "4.8"
        ],
        [
         "3",
         "3",
         "Microsoft Xbox Series S – 1TB White",
         "This console works fantastic. I was easily able to download the games I had on my Xbox one s and they perform just as good or better on this console. \r\n\r\nI definitely recommend getting the 1tb model, now that it's available. I've been waiting for a while for it to come out. Only 800gb is available to use out of the 1tb, so I can only imagine how much is available to use with the 512gb model.",
         "5",
         "11/1/2024",
         "4.8"
        ],
        [
         "4",
         "4",
         "Microsoft Xbox Series S – 1TB White",
         "This product was the least expensive from the sources I checked and is very good quality, arrived on time for Christmas and am pleased with the purchase.",
         "5",
         "12/11/2024",
         "4.8"
        ]
       ],
       "shape": {
        "columns": 6,
        "rows": 5
       }
      },
      "text/html": [
       "<div>\n",
       "<style scoped>\n",
       "    .dataframe tbody tr th:only-of-type {\n",
       "        vertical-align: middle;\n",
       "    }\n",
       "\n",
       "    .dataframe tbody tr th {\n",
       "        vertical-align: top;\n",
       "    }\n",
       "\n",
       "    .dataframe thead th {\n",
       "        text-align: right;\n",
       "    }\n",
       "</style>\n",
       "<table border=\"1\" class=\"dataframe\">\n",
       "  <thead>\n",
       "    <tr style=\"text-align: right;\">\n",
       "      <th></th>\n",
       "      <th>Unnamed: 0</th>\n",
       "      <th>product_name</th>\n",
       "      <th>review_text</th>\n",
       "      <th>product_rating</th>\n",
       "      <th>review_date</th>\n",
       "      <th>avg_rating</th>\n",
       "    </tr>\n",
       "  </thead>\n",
       "  <tbody>\n",
       "    <tr>\n",
       "      <th>0</th>\n",
       "      <td>0</td>\n",
       "      <td>Microsoft Xbox Series S – 1TB White</td>\n",
       "      <td>The series S will set you up to game for years...</td>\n",
       "      <td>5</td>\n",
       "      <td>10/31/2024</td>\n",
       "      <td>4.8</td>\n",
       "    </tr>\n",
       "    <tr>\n",
       "      <th>1</th>\n",
       "      <td>1</td>\n",
       "      <td>Microsoft Xbox Series S – 1TB White</td>\n",
       "      <td>Ordered Xbox series S, received a PS5 controll...</td>\n",
       "      <td>5</td>\n",
       "      <td>12/17/2024</td>\n",
       "      <td>4.8</td>\n",
       "    </tr>\n",
       "    <tr>\n",
       "      <th>2</th>\n",
       "      <td>2</td>\n",
       "      <td>Microsoft Xbox Series S – 1TB White</td>\n",
       "      <td>This product is absolutely amazing, the loadin...</td>\n",
       "      <td>5</td>\n",
       "      <td>2/1/2025</td>\n",
       "      <td>4.8</td>\n",
       "    </tr>\n",
       "    <tr>\n",
       "      <th>3</th>\n",
       "      <td>3</td>\n",
       "      <td>Microsoft Xbox Series S – 1TB White</td>\n",
       "      <td>This console works fantastic. I was easily abl...</td>\n",
       "      <td>5</td>\n",
       "      <td>11/1/2024</td>\n",
       "      <td>4.8</td>\n",
       "    </tr>\n",
       "    <tr>\n",
       "      <th>4</th>\n",
       "      <td>4</td>\n",
       "      <td>Microsoft Xbox Series S – 1TB White</td>\n",
       "      <td>This product was the least expensive from the ...</td>\n",
       "      <td>5</td>\n",
       "      <td>12/11/2024</td>\n",
       "      <td>4.8</td>\n",
       "    </tr>\n",
       "  </tbody>\n",
       "</table>\n",
       "</div>"
      ],
      "text/plain": [
       "   Unnamed: 0                         product_name  \\\n",
       "0           0  Microsoft Xbox Series S – 1TB White   \n",
       "1           1  Microsoft Xbox Series S – 1TB White   \n",
       "2           2  Microsoft Xbox Series S – 1TB White   \n",
       "3           3  Microsoft Xbox Series S – 1TB White   \n",
       "4           4  Microsoft Xbox Series S – 1TB White   \n",
       "\n",
       "                                         review_text  product_rating  \\\n",
       "0  The series S will set you up to game for years...               5   \n",
       "1  Ordered Xbox series S, received a PS5 controll...               5   \n",
       "2  This product is absolutely amazing, the loadin...               5   \n",
       "3  This console works fantastic. I was easily abl...               5   \n",
       "4  This product was the least expensive from the ...               5   \n",
       "\n",
       "  review_date  avg_rating  \n",
       "0  10/31/2024         4.8  \n",
       "1  12/17/2024         4.8  \n",
       "2    2/1/2025         4.8  \n",
       "3   11/1/2024         4.8  \n",
       "4  12/11/2024         4.8  "
      ]
     },
     "execution_count": 15,
     "metadata": {},
     "output_type": "execute_result"
    }
   ],
   "source": [
    "df.head()"
   ]
  },
  {
   "cell_type": "code",
   "execution_count": 16,
   "id": "33dd8bc2",
   "metadata": {},
   "outputs": [
    {
     "name": "stdout",
     "output_type": "stream",
     "text": [
      "<class 'pandas.core.frame.DataFrame'>\n",
      "RangeIndex: 7095 entries, 0 to 7094\n",
      "Data columns (total 6 columns):\n",
      " #   Column          Non-Null Count  Dtype  \n",
      "---  ------          --------------  -----  \n",
      " 0   Unnamed: 0      7095 non-null   int64  \n",
      " 1   product_name    7095 non-null   object \n",
      " 2   review_text     7069 non-null   object \n",
      " 3   product_rating  7095 non-null   int64  \n",
      " 4   review_date     7095 non-null   object \n",
      " 5   avg_rating      7095 non-null   float64\n",
      "dtypes: float64(1), int64(2), object(3)\n",
      "memory usage: 332.7+ KB\n"
     ]
    }
   ],
   "source": [
    "# using .info() to get the data types and non-null counts\n",
    "df.info()"
   ]
  },
  {
   "cell_type": "markdown",
   "id": "3299fc78",
   "metadata": {
    "vscode": {
     "languageId": "yaml"
    }
   },
   "source": [
    "### DataFrame Overview\n",
    "\n",
    "The dataset `df` contains **7095 rows** and **6 columns**. Below is a detailed explanation of the columns and their characteristics:\n",
    "\n",
    "1. **Unnamed: 0**: \n",
    "  - Type: Integer\n",
    "  - Description: index or identifier for each row.\n",
    "\n",
    "2. **product_name**: \n",
    "  - Type: String\n",
    "  - Description: Contains the names of the products being reviewed.\n",
    "\n",
    "3. **review_text**: \n",
    "  - Type: String\n",
    "  - Description: Contains the text of the reviews. \n",
    "  - Note: This column has **7069 non-null values**, indicating some missing data.\n",
    "\n",
    "4. **product_rating**: \n",
    "  - Type: Integer\n",
    "  - Description: Represents the rating given to the product (e.g., 1 to 5).\n",
    "\n",
    "5. **review_date**: \n",
    "  - Type: String\n",
    "  - Description: Represents the date when the review was submitted. \n",
    "  - Note: This column may need to be converted to a datetime format for further analysis.\n",
    "\n",
    "6. **avg_rating**: \n",
    "  - Type: Float\n",
    "  - Description: Represents the average rating of the product.\n",
    "\n",
    "### Summary Statistics\n",
    "- **Total Rows**: 7095\n",
    "- **Total Columns**: 6\n",
    "\n",
    "### Observations\n",
    "- The `review_text` column contains some missing values, which we will need to be handled during data preprocessing.\n",
    "- The `review_date` column is currently stored as a string and will require conversion to a datetime format for time-based analysis.\n",
    "- The dataset provides a comprehensive view of product reviews, including textual feedback, ratings, and submission dates, making it suitable for sentiment analysis, trend analysis, and other exploratory tasks."
   ]
  },
  {
   "cell_type": "markdown",
   "id": "68d3d9d2",
   "metadata": {},
   "source": [
    "# Data Preprocessing"
   ]
  },
  {
   "cell_type": "code",
   "execution_count": null,
   "id": "1e73a479",
   "metadata": {},
   "outputs": [
    {
     "data": {
      "text/plain": [
       "Unnamed: 0         0\n",
       "product_name       0\n",
       "review_text       26\n",
       "product_rating     0\n",
       "review_date        0\n",
       "avg_rating         0\n",
       "dtype: int64"
      ]
     },
     "execution_count": 17,
     "metadata": {},
     "output_type": "execute_result"
    }
   ],
   "source": [
    "# checking for the sum of null values in each column\n",
    "df.isnull().sum() "
   ]
  },
  {
   "cell_type": "code",
   "execution_count": 18,
   "id": "214afc2d",
   "metadata": {},
   "outputs": [],
   "source": [
    "# dropping columns with missing values\n",
    "df.dropna(axis=1, inplace=True)"
   ]
  },
  {
   "cell_type": "code",
   "execution_count": 23,
   "id": "a61f7479",
   "metadata": {},
   "outputs": [
    {
     "name": "stdout",
     "output_type": "stream",
     "text": [
      "<class 'pandas.core.frame.DataFrame'>\n",
      "RangeIndex: 7095 entries, 0 to 7094\n",
      "Data columns (total 5 columns):\n",
      " #   Column          Non-Null Count  Dtype         \n",
      "---  ------          --------------  -----         \n",
      " 0   Unnamed: 0      7095 non-null   int64         \n",
      " 1   product_name    7095 non-null   object        \n",
      " 2   product_rating  7095 non-null   int64         \n",
      " 3   review_date     7095 non-null   datetime64[ns]\n",
      " 4   avg_rating      7095 non-null   float64       \n",
      "dtypes: datetime64[ns](1), float64(1), int64(2), object(1)\n",
      "memory usage: 277.3+ KB\n"
     ]
    }
   ],
   "source": [
    "# converting the 'review_date' column to datetime format\n",
    "df['review_date'] = pd.to_datetime(df['review_date'], format='%m/%d/%Y', errors='coerce')\n",
    "# checking the data types again after conversion  \n",
    "df.info()"
   ]
  },
  {
   "cell_type": "code",
   "execution_count": 24,
   "id": "f62ef660",
   "metadata": {},
   "outputs": [
    {
     "data": {
      "text/plain": [
       "(Timestamp('2008-12-14 00:00:00'), Timestamp('2025-02-10 00:00:00'))"
      ]
     },
     "execution_count": 24,
     "metadata": {},
     "output_type": "execute_result"
    }
   ],
   "source": [
    "df['review_date'].min(), df['review_date'].max()"
   ]
  },
  {
   "cell_type": "markdown",
   "id": "16924128",
   "metadata": {},
   "source": [
    "## EDA"
   ]
  },
  {
   "cell_type": "code",
   "execution_count": 25,
   "id": "8d4857ce",
   "metadata": {},
   "outputs": [
    {
     "data": {
      "image/png": "[encoded data removed]",
      "text/plain": [
       "<Figure size 1000x500 with 1 Axes>"
      ]
     },
     "metadata": {},
     "output_type": "display_data"
    }
   ],
   "source": [
    "# checking the distribution of ratings    \n",
    "df['product_rating'].value_counts().sort_index().plot(kind='bar', figsize=(10, 5), color='skyblue')\n",
    "plt.title('Distribution of Ratings')  \n",
    "plt.xlabel('Rating')\n",
    "plt.ylabel('Count')\n",
    "plt.xticks(rotation=0)\n",
    "plt.show()\n"
   ]
  },
  {
   "cell_type": "markdown",
   "id": "7abfc4fc",
   "metadata": {},
   "source": [
    "1. **Rating 5 Dominates**: The highest bar corresponds to a rating of 5, indicating that most customers gave the highest rating to the products.\n",
    "2. **Lower Ratings are Less Frequent**: Ratings 1 and 2 have significantly fewer reviews, suggesting that fewer customers were dissatisfied with the products.\n",
    "3. **Balanced Mid-Ratings**: Ratings 3 and 4 have moderate counts, showing a balanced distribution of neutral to positive feedback.\n",
    "4. **Overall Sentiment**: The chart suggests a generally positive sentiment among reviewers, as higher ratings (4 and 5) dominate the distribution."
   ]
  },
  {
   "cell_type": "code",
   "execution_count": 34,
   "id": "be3243f4",
   "metadata": {},
   "outputs": [
    {
     "data": {
      "image/png": "[encoded data removed]",
      "text/plain": [
       "<Figure size 1200x600 with 1 Axes>"
      ]
     },
     "metadata": {},
     "output_type": "display_data"
    }
   ],
   "source": [
    "# count of rating over time coloer coded by rating\n",
    "df['review_year'] = df['review_date'].dt.year \n",
    "fig = plt.figure(figsize=(12, 6))\n",
    "sns.lineplot(data=df, x='review_year',y='product_rating', hue='product_rating', estimator='count', errorbar=None, palette='Set1')\n",
    "plt.title('Count of Ratings Over Time')\n",
    "plt.xlabel('Review Year')\n",
    "plt.ylabel('Count of Ratings')\n",
    "plt.legend(title='Product Rating')\n",
    "plt.tight_layout()\n",
    "plt.show()"
   ]
  },
  {
   "cell_type": "markdown",
   "id": "c7286d44",
   "metadata": {},
   "source": []
  },
  {
   "cell_type": "code",
   "execution_count": null,
   "id": "28b10280",
   "metadata": {},
   "outputs": [],
   "source": []
  }
 ],
 "metadata": {
  "kernelspec": {
   "display_name": "env",
   "language": "python",
   "name": "python3"
  },
  "language_info": {
   "codemirror_mode": {
    "name": "ipython",
    "version": 3
   },
   "file_extension": ".py",
   "mimetype": "text/x-python",
   "name": "python",
   "nbconvert_exporter": "python",
   "pygments_lexer": "ipython3",
   "version": "3.11.0"
  }
 },
 "nbformat": 4,
 "nbformat_minor": 5
}
